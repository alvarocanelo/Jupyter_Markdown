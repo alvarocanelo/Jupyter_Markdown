{
 "cells": [
  {
   "cell_type": "markdown",
   "id": "b5feecde",
   "metadata": {},
   "source": [
    "# La taula del $$\\pi$$"
   ]
  },
  {
   "cell_type": "code",
   "execution_count": 1,
   "id": "3824c9b1",
   "metadata": {
    "scrolled": true
   },
   "outputs": [
    {
     "name": "stdout",
     "output_type": "stream",
     "text": [
      "1 x π = 3.141592653589793\n",
      "2 x π = 6.283185307179586\n",
      "3 x π = 9.42477796076938\n",
      "4 x π = 12.566370614359172\n",
      "5 x π = 15.707963267948966\n",
      "6 x π = 18.84955592153876\n",
      "7 x π = 21.991148575128552\n",
      "8 x π = 25.132741228718345\n",
      "9 x π = 28.274333882308138\n",
      "10 x π = 31.41592653589793\n"
     ]
    }
   ],
   "source": [
    "from math import pi\n",
    "for n in range(1,11): print(\"{} x π = {}\".format(n, n*pi) )"
   ]
  },
  {
   "cell_type": "markdown",
   "id": "a2f1da68",
   "metadata": {},
   "source": [
    "# Equacions de Maxwell\n",
    "Ja hem demostrat que sabem posar títols i un poc de codi. Ara demostrarem que sabem fer llistes i fórmules posant les equacions de Maxwell."
   ]
  },
  {
   "cell_type": "markdown",
   "id": "2a7adec1",
   "metadata": {},
   "source": [
    "### Forma integral\n",
    "* $$\\oint_{\\partial V} E \\cdot dV = \\frac{1}{\\varepsilon_{0}} \\int_V \\rho ~dV$$\n",
    "* $$ 0 = \\oint_{\\partial V} B \\cdot dS$$\n",
    "* $$ \\oint_{\\partial S} E \\cdot dl = - \\frac{d}{dt} \\int_S B \\cdot dS$$"
   ]
  },
  {
   "cell_type": "markdown",
   "id": "7a849b2f",
   "metadata": {},
   "source": [
    "### Forma diferencial\n",
    "* $$\\nabla \\cdot E =  \\frac{\\rho}{\\varepsilon_{0}}$$\n",
    "* $$\\nabla \\cdot B = 0$$\n",
    "* $$\\nabla \\times E = - \\frac{\\partial B}{\\partial t}$$"
   ]
  },
  {
   "cell_type": "markdown",
   "id": "7947b36e",
   "metadata": {},
   "source": [
    "## Llei de força de Lorentz\n",
    "Afegim una imatge llei de força de Lorentz per a saber com els camps actuen sobre la matèria.\n",
    "![Llei de Lorentz](l.png)"
   ]
  }
 ],
 "metadata": {
  "kernelspec": {
   "display_name": "Python 3",
   "language": "python",
   "name": "python3"
  },
  "language_info": {
   "codemirror_mode": {
    "name": "ipython",
    "version": 3
   },
   "file_extension": ".py",
   "mimetype": "text/x-python",
   "name": "python",
   "nbconvert_exporter": "python",
   "pygments_lexer": "ipython3",
   "version": "3.8.8"
  }
 },
 "nbformat": 4,
 "nbformat_minor": 5
}
